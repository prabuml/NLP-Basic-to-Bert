{
  "nbformat": 4,
  "nbformat_minor": 0,
  "metadata": {
    "colab": {
      "name": "Ulmfit.ipynb",
      "provenance": []
    },
    "kernelspec": {
      "name": "python3",
      "display_name": "Python 3"
    },
    "accelerator": "GPU"
  },
  "cells": [
    {
      "cell_type": "markdown",
      "metadata": {
        "id": "UB7O-qRBU70W",
        "colab_type": "text"
      },
      "source": [
        "[![Open In Colab](https://colab.research.google.com/assets/colab-badge.svg)](https://colab.research.google.com/github/prabuscihero/NLP-Basic-to-Bert/blob/master/Ulmfit.ipynb)"
      ]
    },
    {
      "cell_type": "markdown",
      "metadata": {
        "id": "mg8w6KfIVHs9",
        "colab_type": "text"
      },
      "source": [
        "## Model - Ulmfit"
      ]
    },
    {
      "cell_type": "code",
      "metadata": {
        "id": "zFbJMNDtVIht",
        "colab_type": "code",
        "colab": {}
      },
      "source": [
        "from sklearn.svm import LinearSVC\n",
        "import pandas as pd\n",
        "from sklearn.pipeline import Pipeline\n",
        "import string\n",
        "from sklearn.feature_extraction.text import TfidfVectorizer\n",
        "import re\n",
        "from nltk.corpus import stopwords\n",
        "from nltk.corpus import wordnet\n",
        "import nltk\n",
        "from sklearn.model_selection import train_test_split\n",
        "from spellchecker import SpellChecker\n",
        "from sklearn.metrics import classification_report\n",
        "import numpy as np\n",
        "from torchtext.vocab import GloVe\n",
        "import pickle\n",
        "from sklearn.model_selection import GridSearchCV\n",
        "from fastai import *\n",
        "from fastai.text import *\n",
        "from pathlib import Path\n",
        "import pandas as pd\n",
        "import numpy as np\n",
        "import re"
      ],
      "execution_count": 0,
      "outputs": []
    },
    {
      "cell_type": "code",
      "metadata": {
        "id": "8J7gz-AgOboE",
        "colab_type": "code",
        "outputId": "2958c740-4506-4138-c927-4a5b648ea45a",
        "colab": {
          "base_uri": "https://localhost:8080/",
          "height": 34
        }
      },
      "source": [
        "from google.colab import files\n",
        "from google.colab import drive\n",
        "drive.mount('/content/gdrive')"
      ],
      "execution_count": 2,
      "outputs": [
        {
          "output_type": "stream",
          "text": [
            "Drive already mounted at /content/gdrive; to attempt to forcibly remount, call drive.mount(\"/content/gdrive\", force_remount=True).\n"
          ],
          "name": "stdout"
        }
      ]
    },
    {
      "cell_type": "code",
      "metadata": {
        "id": "y6lhap_Rglyj",
        "colab_type": "code",
        "outputId": "c8b5eb82-aae1-4013-f76c-6d951352d574",
        "colab": {
          "base_uri": "https://localhost:8080/",
          "height": 34
        }
      },
      "source": [
        "cd '/content/gdrive/My Drive/Colab Notebooks/NLP-Basic-to-Bert'"
      ],
      "execution_count": 3,
      "outputs": [
        {
          "output_type": "stream",
          "text": [
            "/content/gdrive/My Drive/Colab Notebooks/NLP-Basic-to-Bert\n"
          ],
          "name": "stdout"
        }
      ]
    },
    {
      "cell_type": "code",
      "metadata": {
        "id": "BCDw5yLrgtZX",
        "colab_type": "code",
        "colab": {}
      },
      "source": [
        "# Load the training data\n",
        "train_df_full = pd.read_csv('training_data.csv')\n",
        "test_df = pd.read_csv('testing_data.csv')"
      ],
      "execution_count": 0,
      "outputs": []
    },
    {
      "cell_type": "code",
      "metadata": {
        "id": "K_ehMUdEdmo4",
        "colab_type": "code",
        "colab": {}
      },
      "source": [
        "# Create train and validation set\n",
        "train_df, valid_df, train_labels, valid_labels = train_test_split(train_df_full, train_df_full.user_rating, random_state=42, stratify=train_df_full.user_rating,test_size=0.20)"
      ],
      "execution_count": 0,
      "outputs": []
    },
    {
      "cell_type": "code",
      "metadata": {
        "id": "R_GqtzKIQa2h",
        "colab_type": "code",
        "outputId": "0a7cee76-75f4-46c6-e650-838b5140e147",
        "colab": {
          "base_uri": "https://localhost:8080/",
          "height": 17
        }
      },
      "source": [
        "#Create a TextDataBunch suitable for training a language model.\n",
        "path = \"\"\n",
        "data_lm = TextLMDataBunch.from_df(path, train_df, valid_df,min_freq=1,text_cols = 'user_review', label_cols = 'user_rating')"
      ],
      "execution_count": 6,
      "outputs": [
        {
          "output_type": "display_data",
          "data": {
            "text/html": [
              ""
            ],
            "text/plain": [
              "<IPython.core.display.HTML object>"
            ]
          },
          "metadata": {
            "tags": []
          }
        },
        {
          "output_type": "display_data",
          "data": {
            "text/html": [
              ""
            ],
            "text/plain": [
              "<IPython.core.display.HTML object>"
            ]
          },
          "metadata": {
            "tags": []
          }
        }
      ]
    },
    {
      "cell_type": "code",
      "metadata": {
        "id": "y5-zUFYYmpuD",
        "colab_type": "code",
        "outputId": "dc9e21bf-10a2-46a5-c24b-83ae87320094",
        "colab": {
          "base_uri": "https://localhost:8080/",
          "height": 279
        }
      },
      "source": [
        "data_lm.save()\n",
        "data_lm.show_batch()"
      ],
      "execution_count": 7,
      "outputs": [
        {
          "output_type": "display_data",
          "data": {
            "text/html": [
              "<table border=\"1\" class=\"dataframe\">\n",
              "  <thead>\n",
              "    <tr style=\"text-align: right;\">\n",
              "      <th>idx</th>\n",
              "      <th>text</th>\n",
              "    </tr>\n",
              "  </thead>\n",
              "  <tbody>\n",
              "    <tr>\n",
              "      <td>0</td>\n",
              "      <td>more xxmaj give it up xxmaj donny xxbos xxmaj unhappy competition xxmaj this album is wonderful i can listen to it for hours and i m 65 years old xxmaj please be cautious in believing critical reviews as some people are unhappy that xxmaj clays album came out before xxmaj rubens i m sure xxmaj rubens album will be really great also xxbos xxmaj very annoying xxmaj this video is</td>\n",
              "    </tr>\n",
              "    <tr>\n",
              "      <td>1</td>\n",
              "      <td>app more than once to get it to work right xxbos xxmaj not so hot i confess i did nt play past the first level but heres why xxmaj the colors are so bright in this cartoongraphics game it can give you a headache xxmaj then on the first level a dinosaur kept coming out of nowhere and jumping on my xxmaj taz delaying the game as xxmaj taz recovered</td>\n",
              "    </tr>\n",
              "    <tr>\n",
              "      <td>2</td>\n",
              "      <td>long novel with an intricate plot i enjoyed it a lot xxmaj other reviewers have covered the plot and given their opinions xxmaj ill just give one tip xxmaj unless you can clear your calendar so you can read without interruptions i d recommend buying the xxmaj kindle version of this book if you can xxmaj that way if you have to put it down for a while and come</td>\n",
              "    </tr>\n",
              "    <tr>\n",
              "      <td>3</td>\n",
              "      <td>pushed to the max xxmaj mixed for ipods i quess i m an old guylouder in your face is not better xxbos xxmaj andrew xxmaj adamson has done it again xxmaj this is the sequel to the lion the witch and the wardrobe which was an awesome movie i still remember when my aunty first bought me the xxmaj chronicles of xxmaj narnia book collection xxmaj once i started reading</td>\n",
              "    </tr>\n",
              "    <tr>\n",
              "      <td>4</td>\n",
              "      <td>a small chested womansize xxup dd cupsand i love high impact sports but i have had a difficult time finding a sports bra that could keep me from painfully bouncing everytime i would run or jump xxmaj this bra keeps that from happening i no longer feel pain when playing sports or runningi also do nt feel as selfconscious when working out which is another added bonusthe bra is comfortable</td>\n",
              "    </tr>\n",
              "  </tbody>\n",
              "</table>"
            ],
            "text/plain": [
              "<IPython.core.display.HTML object>"
            ]
          },
          "metadata": {
            "tags": []
          }
        }
      ]
    },
    {
      "cell_type": "code",
      "metadata": {
        "id": "-tlUADBrQUoX",
        "colab_type": "code",
        "outputId": "f0a25ee0-5981-42bd-c500-9e31b1ef6ad0",
        "colab": {
          "base_uri": "https://localhost:8080/",
          "height": 17
        }
      },
      "source": [
        "#Create a TextDataBunch suitable for training an RNN classifier.\n",
        "data_clas = TextClasDataBunch.from_df(path, train_df, valid_df, test_df,vocab=data_lm.train_ds.vocab, text_cols = 'user_review', label_cols = 'user_rating',bs=16)"
      ],
      "execution_count": 9,
      "outputs": [
        {
          "output_type": "display_data",
          "data": {
            "text/html": [
              ""
            ],
            "text/plain": [
              "<IPython.core.display.HTML object>"
            ]
          },
          "metadata": {
            "tags": []
          }
        },
        {
          "output_type": "display_data",
          "data": {
            "text/html": [
              ""
            ],
            "text/plain": [
              "<IPython.core.display.HTML object>"
            ]
          },
          "metadata": {
            "tags": []
          }
        },
        {
          "output_type": "display_data",
          "data": {
            "text/html": [
              ""
            ],
            "text/plain": [
              "<IPython.core.display.HTML object>"
            ]
          },
          "metadata": {
            "tags": []
          }
        }
      ]
    },
    {
      "cell_type": "code",
      "metadata": {
        "id": "_dL7sfnNOvMI",
        "colab_type": "code",
        "outputId": "63b9cedb-f1a1-4e2d-a190-f743bfd72add",
        "colab": {
          "base_uri": "https://localhost:8080/",
          "height": 279
        }
      },
      "source": [
        "data_clas.save()\n",
        "data_clas.show_batch()"
      ],
      "execution_count": 10,
      "outputs": [
        {
          "output_type": "display_data",
          "data": {
            "text/html": [
              "<table border=\"1\" class=\"dataframe\">\n",
              "  <thead>\n",
              "    <tr style=\"text-align: right;\">\n",
              "      <th>text</th>\n",
              "      <th>target</th>\n",
              "    </tr>\n",
              "  </thead>\n",
              "  <tbody>\n",
              "    <tr>\n",
              "      <td>xxbos xxup this xxup sucks xxup stay xxup away xxup buyer xxup beware xxup yes xxup the xxup diapers xxup are xxup good xxup but i xxup received xxup the xxup diapers xxup with xxup stains xxup they xxup look xxup like xxup dna xxup stains xxup so i xxup call xxup the xxup company xxup and xxup they xxup instruct xxup me xxup to xxup xxunk xxup them xxup</td>\n",
              "      <td>0</td>\n",
              "    </tr>\n",
              "    <tr>\n",
              "      <td>xxbos i m with the critics xxup dont xxup cut xxup it xxmaj enough reviewers have groused that the verdict is in xxmaj the xxmaj owl and the xxmaj pussycat xxup was a classic that rocked until the idiot xxmaj babs and the xxmaj columbia scissor boys got hold of it xxmaj if i were xxmaj buck xxmaj henry i d be angry xxmaj the majority of people who would</td>\n",
              "      <td>0</td>\n",
              "    </tr>\n",
              "    <tr>\n",
              "      <td>xxbos xxmaj all those songs we like curled up in a xxup cd i ve beaten xxmaj final xxmaj fantasy 7 so i know every song on here by heart xxmaj most of the songs are spectacular expecially xxup jenova and xxmaj one xxmaj winged xxmaj angel xxmaj if any of you have played xxmaj kingdom xxmaj hearts before and battled xxmaj xxunk at the coliseum you may hear a</td>\n",
              "      <td>1</td>\n",
              "    </tr>\n",
              "    <tr>\n",
              "      <td>xxbos xxmaj its more of a chick flick than an action movie i really wanted to see this one badly after i saw the trailers to it but when i saw it i did nt get anything but a huge romance flick i enjoyed the first one the most but the second one was bad xxmaj it only showed 20 minutes of action xxmaj the movie was just a complete</td>\n",
              "      <td>0</td>\n",
              "    </tr>\n",
              "    <tr>\n",
              "      <td>xxbos xxmaj great little desktop stand xxmaj so i was looking for a stand for my desk at work i was really tired on laying my blackberry down having it lost in a pile of papers or since i have a work setting not knowing who was calling until i picked up the phone xxmaj this seemed to fit the bill the price was right so i went for it</td>\n",
              "      <td>1</td>\n",
              "    </tr>\n",
              "  </tbody>\n",
              "</table>"
            ],
            "text/plain": [
              "<IPython.core.display.HTML object>"
            ]
          },
          "metadata": {
            "tags": []
          }
        }
      ]
    },
    {
      "cell_type": "code",
      "metadata": {
        "id": "UpRoW5c3hsiD",
        "colab_type": "code",
        "outputId": "4d81fdf7-88bd-4388-f5af-44188d2876fd",
        "colab": {
          "base_uri": "https://localhost:8080/",
          "height": 34
        }
      },
      "source": [
        "# Download the pretrained language model\n",
        "learn = language_model_learner(data_lm,  arch = AWD_LSTM, pretrained = True, drop_mult=0.3)"
      ],
      "execution_count": 0,
      "outputs": [
        {
          "output_type": "stream",
          "text": [
            "Downloading https://s3.amazonaws.com/fast-ai-modelzoo/wt103-fwd\n"
          ],
          "name": "stdout"
        },
        {
          "output_type": "display_data",
          "data": {
            "text/html": [
              ""
            ],
            "text/plain": [
              "<IPython.core.display.HTML object>"
            ]
          },
          "metadata": {
            "tags": []
          }
        }
      ]
    },
    {
      "cell_type": "code",
      "metadata": {
        "id": "E_0d6CiUhvuX",
        "colab_type": "code",
        "outputId": "af9a5c68-b4f2-42f8-9fe7-8f88cfefa28c",
        "colab": {
          "base_uri": "https://localhost:8080/",
          "height": 296
        }
      },
      "source": [
        "# Plot different learning rate and select the best learning rate\n",
        "learn.lr_find(start_lr=1e-8, end_lr=1e2)\n",
        "learn.recorder.plot()"
      ],
      "execution_count": 0,
      "outputs": [
        {
          "output_type": "display_data",
          "data": {
            "text/html": [
              ""
            ],
            "text/plain": [
              "<IPython.core.display.HTML object>"
            ]
          },
          "metadata": {
            "tags": []
          }
        },
        {
          "output_type": "stream",
          "text": [
            "LR Finder is complete, type {learner_name}.recorder.plot() to see the graph.\n"
          ],
          "name": "stdout"
        },
        {
          "output_type": "display_data",
          "data": {
            "image/png": "[encoded data removed]",
            "text/plain": [
              "<Figure size 432x288 with 1 Axes>"
            ]
          },
          "metadata": {
            "tags": []
          }
        }
      ]
    },
    {
      "cell_type": "code",
      "metadata": {
        "id": "RVR5iqemliT1",
        "colab_type": "code",
        "outputId": "8b92ae04-2994-4a01-869e-9d6e6dd139e5",
        "colab": {
          "base_uri": "https://localhost:8080/",
          "height": 94
        }
      },
      "source": [
        "# Fine tune the language model with the review data\n",
        "learn = language_model_learner(data_lm,  arch = AWD_LSTM, pretrained = True, drop_mult=0.3)\n",
        "learn.fit_one_cycle(1, slice(1e-4,1e-1), moms=(0.8, 0.7))\n",
        "learn.save_encoder('ft_enc1')\n",
        "print(\"done\")"
      ],
      "execution_count": 0,
      "outputs": [
        {
          "output_type": "display_data",
          "data": {
            "text/html": [
              "<table border=\"1\" class=\"dataframe\">\n",
              "  <thead>\n",
              "    <tr style=\"text-align: left;\">\n",
              "      <th>epoch</th>\n",
              "      <th>train_loss</th>\n",
              "      <th>valid_loss</th>\n",
              "      <th>accuracy</th>\n",
              "      <th>time</th>\n",
              "    </tr>\n",
              "  </thead>\n",
              "  <tbody>\n",
              "    <tr>\n",
              "      <td>0</td>\n",
              "      <td>5.109914</td>\n",
              "      <td>4.742639</td>\n",
              "      <td>0.219441</td>\n",
              "      <td>03:11</td>\n",
              "    </tr>\n",
              "  </tbody>\n",
              "</table>"
            ],
            "text/plain": [
              "<IPython.core.display.HTML object>"
            ]
          },
          "metadata": {
            "tags": []
          }
        },
        {
          "output_type": "stream",
          "text": [
            "done\n"
          ],
          "name": "stdout"
        }
      ]
    },
    {
      "cell_type": "code",
      "metadata": {
        "colab_type": "code",
        "outputId": "b84fc9c1-e249-4a9b-eb29-ad7ba7fa9178",
        "id": "7f4_ImqbCZM1",
        "colab": {
          "base_uri": "https://localhost:8080/",
          "height": 212
        }
      },
      "source": [
        "\n",
        "learn.unfreeze()\n",
        "learn.fit_one_cycle(5, slice(1e-4, 1e-1), moms=(0.8, 0.7))\n",
        "learn.save_encoder('ft_enc2')\n",
        "print(\"done\")"
      ],
      "execution_count": 0,
      "outputs": [
        {
          "output_type": "display_data",
          "data": {
            "text/html": [
              "<table border=\"1\" class=\"dataframe\">\n",
              "  <thead>\n",
              "    <tr style=\"text-align: left;\">\n",
              "      <th>epoch</th>\n",
              "      <th>train_loss</th>\n",
              "      <th>valid_loss</th>\n",
              "      <th>accuracy</th>\n",
              "      <th>time</th>\n",
              "    </tr>\n",
              "  </thead>\n",
              "  <tbody>\n",
              "    <tr>\n",
              "      <td>0</td>\n",
              "      <td>4.683995</td>\n",
              "      <td>4.520857</td>\n",
              "      <td>0.236070</td>\n",
              "      <td>03:35</td>\n",
              "    </tr>\n",
              "    <tr>\n",
              "      <td>1</td>\n",
              "      <td>4.602182</td>\n",
              "      <td>4.426942</td>\n",
              "      <td>0.246573</td>\n",
              "      <td>03:35</td>\n",
              "    </tr>\n",
              "    <tr>\n",
              "      <td>2</td>\n",
              "      <td>4.377951</td>\n",
              "      <td>4.274166</td>\n",
              "      <td>0.259523</td>\n",
              "      <td>03:35</td>\n",
              "    </tr>\n",
              "    <tr>\n",
              "      <td>3</td>\n",
              "      <td>4.069189</td>\n",
              "      <td>4.141726</td>\n",
              "      <td>0.273393</td>\n",
              "      <td>03:36</td>\n",
              "    </tr>\n",
              "    <tr>\n",
              "      <td>4</td>\n",
              "      <td>3.689270</td>\n",
              "      <td>4.150926</td>\n",
              "      <td>0.275364</td>\n",
              "      <td>03:35</td>\n",
              "    </tr>\n",
              "  </tbody>\n",
              "</table>"
            ],
            "text/plain": [
              "<IPython.core.display.HTML object>"
            ]
          },
          "metadata": {
            "tags": []
          }
        },
        {
          "output_type": "stream",
          "text": [
            "done\n"
          ],
          "name": "stdout"
        }
      ]
    },
    {
      "cell_type": "code",
      "metadata": {
        "id": "bUQFs9002iUa",
        "colab_type": "code",
        "outputId": "61d5f686-bca0-48eb-8e85-198ee32318e3",
        "colab": {
          "base_uri": "https://localhost:8080/",
          "height": 34
        }
      },
      "source": [
        "# Predict the next words on the review data\n",
        "learn.predict(\"This is a review about\", n_words=15)"
      ],
      "execution_count": 0,
      "outputs": [
        {
          "output_type": "execute_result",
          "data": {
            "text/plain": [
              "'This is a review about her thank a film to will turnso Class very Broadband and the last'"
            ]
          },
          "metadata": {
            "tags": []
          },
          "execution_count": 23
        }
      ]
    },
    {
      "cell_type": "code",
      "metadata": {
        "id": "X6zU0qTg3WaP",
        "colab_type": "code",
        "outputId": "d824a20c-2e19-477a-d31d-74aac3b372de",
        "colab": {
          "base_uri": "https://localhost:8080/",
          "height": 1000
        }
      },
      "source": [
        "# Build the text classification model with user review trained model\n",
        "learn_class = text_classifier_learner(data_clas, arch = AWD_LSTM, pretrained = True, drop_mult=0.1)\n",
        "learn_class.load_encoder('ft_enc2')"
      ],
      "execution_count": 11,
      "outputs": [
        {
          "output_type": "stream",
          "text": [
            "Downloading https://s3.amazonaws.com/fast-ai-modelzoo/wt103-fwd\n"
          ],
          "name": "stdout"
        },
        {
          "output_type": "display_data",
          "data": {
            "text/html": [
              ""
            ],
            "text/plain": [
              "<IPython.core.display.HTML object>"
            ]
          },
          "metadata": {
            "tags": []
          }
        },
        {
          "output_type": "execute_result",
          "data": {
            "text/plain": [
              "RNNLearner(data=TextClasDataBunch;\n",
              "\n",
              "Train: LabelList (40000 items)\n",
              "x: TextList\n",
              "xxbos dumb dumber i did nt like the video xxmaj how could all xxmaj josephs brothers be of a different race xxmaj are we trying to be politically correct or xxup what xxmaj also i wish xxmaj donny had kept his shirt on i was turned on by his hairy chest i have seen this performed twice by groups other than xxmaj donny and co and enjoyed it so much more xxmaj give it up xxmaj donny,xxbos xxmaj unhappy competition xxmaj this album is wonderful i can listen to it for hours and i m 65 years old xxmaj please be cautious in believing critical reviews as some people are unhappy that xxmaj clays album came out before xxmaj rubens i m sure xxmaj rubens album will be really great also,xxbos xxmaj very annoying xxmaj this video is really a disappointment it came with a xxmaj thomas piece so naturally my daughter picked it and i thought the bonus feature would nt be mixed in with the actually xxmaj thomas stories but i was wrong xxmaj my daughter easily lost interest when the people would come on and talk about loving xxmaj thomas and getting to ride the real xxmaj thomas train i was totally annoyed,xxbos xxmaj class xxmaj is xxup definately xxmaj in xxmaj session i liked xxmaj lauryn xxmaj hill so much in xxmaj the xxmaj fugees i had to get her first solo album i was blown away after one listening xxmaj this album showcases her rap skills and wonderful singing vioce xxmaj even the interludes between songs are bearable xxmaj of course xxmaj doo xxmaj wop xxmaj that xxmaj thing is one of my favorites where she shows off both of her talents xxmaj the harmonies are incredible xxmaj other faves include exfactor i xxmaj used xxmaj to xxmaj love xxmaj him a duet with xxmaj mary j xxmaj blige and xxmaj final xxmaj hour xxmaj the two i did not enjoy were xxmaj superstar and her duet with dangelo xxmaj nothing xxmaj even mattersnem is just too long xxmaj this xxup cd is a must for anyone who likes hiphop xxup rb andor light rap xxmaj get your miseducation from xxmaj lauryn and it will be tuition wellspent,xxbos xxmaj stupidiest agent movie ever made xxmaj this movie is literally a copy of xxmaj james xxmaj bond moviethe only diffirence is the agent who tries to be a coolskateraction renegadetrash talking agent in the name of being the new age agentvin xxmaj diesel totally xxmaj the movie is tried to be an original one by having a closetoteenage guywho is totally stupidthe story is probably one of the most senseless ones in the movie worldwho would like the destroy all the governments so everyone could be freeby poisioning the worldfor the ones still interested in this movie and want to know about this moviea movie that lacks everything to be a good agent classici think xxmaj vin xxmaj diesel and this movies makers should watch more xxmaj james xxmaj bond before they shoot the next one\n",
              "y: CategoryList\n",
              "0,1,0,1,0\n",
              "Path: .;\n",
              "\n",
              "Valid: LabelList (10000 items)\n",
              "x: TextList\n",
              "xxbos the complete king wonderful compilation of elvis work from the early to final xxunk the advances in recording technology over his career,xxbos xxmaj not bad and essential xxmaj this is a firsthand tale of what night have been and exactly what we xxunk away in mindless hostility toward xxmaj russia with whom we might have had warmer relations for the past sixty years as we now have with xxmaj china and by means of this xxunk posture xxunk away substantial portions of the xxup us and xxmaj russian xxunk encouraged the xxup us to befriend and empower vicious dictators and began a slow spiral of worsening relations with the rest of the xxunk not too bold to assert that one can trace the xxunk of the current xxup us xxunk and financial disaster to the collective xxunk of the xxmaj western xxmaj powers xxunk a xxunk xxmaj russia nostalgic for the xxmaj good xxmaj old xxmaj days of the xxmaj xxunk,xxbos 1 star is being very generous xxmaj this movie of xxmaj joan of xxmaj arc is the xxup worst representation of her life ever produced xxmaj the history is not very accurate and xxmaj joans mission was totally missed xxmaj the director seems to have forgotten that this 19 yr old girl was the xxunk that eventually ended the xxmaj hundred xxmaj years xxmaj war but under xxmaj gods command xxmaj this is a cheezy xxmaj hollywood production looks are very deceiving xxmaj do nt waste your money xxmaj if you are truly interested in seeing a xxup good and more accurate movie i suggest xxup the xxup passion xxup of xxup joan xxup of xxup arc the 1928 silent film or xxup joan xxup of xxup arc with xxmaj leelee xxmaj sobieski from 1999,xxbos xxmaj attitude xxmaj when i first got this book i thought it would be a good read especially her escapades with cooking xxmaj and i liked the little tidbits about xxmaj julia xxmaj childs and her husband xxmaj however i got tired of the book after sixty seventy pages of it i found i was angry and disgusted by her total lack of sympathy for those who were trying to contribute to the 911 memorial as well as the families who have lost people in towers xxmaj her condescension was more than i could handle xxmaj she and her friends were a bunch of whining selfabsorbed xxunk that believe the world revolved around them and their happiness xxmaj in the end i could not bring myself to read any farther xxmaj that s too bad xxmaj it should have been better given the concept,xxbos great purchase great book great presentation first time i bought something for kindle really please so far looking forward to new titles and new features for kindle\n",
              "y: CategoryList\n",
              "1,1,0,0,1\n",
              "Path: .;\n",
              "\n",
              "Test: LabelList (50000 items)\n",
              "x: TextList\n",
              "xxbos xxmaj great xxup cd xxmaj my lovely xxmaj pat has one of the xxup great voices of her generation i have listened to this xxup cd for xxup years and i still xxup love xxup it xxmaj when i m in a good mood it makes me feel better a bad mood just evaporates like sugar in the rain xxmaj this xxup cd just oozes xxup life xxmaj vocals are xxunk xxup xxunk and lyrics just kill xxmaj one of lifes hidden gems xxmaj this is a desert isle xxup cd in my book xxmaj why she never made it big is just beyond me xxmaj everytime i play this no matter black white young old male female xxup everybody says one thing xxmaj who was that singing,xxbos xxmaj one of the best game music soundtracks for a game i did nt really play xxmaj despite the fact that i have only played a small portion of the game the music i heard plus the connection to xxmaj chrono xxmaj trigger which was great as well led me to purchase the soundtrack and it remains one of my favorite albums xxmaj there is an incredible mix of fun epic and emotional songs xxmaj those sad and beautiful tracks i especially like as there s not too many of those kinds of songs in my other video game soundtracks i must admit that one of the songs lifea xxmaj distant xxmaj promise has brought tears to my eyes on many xxunk one complaint about this soundtrack is that they use guitar fretting effects in many of the songs which i find distracting xxmaj but even if those were nt included i would still consider the collection worth it,xxbos xxmaj batteries died within a year i bought this charger in xxmaj xxunk 2003 and it worked xxup ok for a while xxmaj the design is nice and convenient xxmaj however after about a year the batteries would not hold a charge xxmaj might as well just get alkaline disposables or look elsewhere for a charger that comes with batteries that have better staying power,xxbos works fine but xxmaj maha xxmaj energy is better xxmaj check out xxmaj maha xxmaj xxunk website xxmaj their xxmaj xxunk xxup xxunk charger works in 100 minutes for rapid charge with option for slower charge better for batteries xxmaj and they have 2200 mah batteries,xxbos xxmaj great for the xxunk xxmaj reviewed quite a bit of the combo players and was hesitant due to unfavorable reviews and size of machines i am xxunk off my xxup vhs collection but do nt want to replace them with dvds xxmaj this unit is well built easy to setup and resolution and special effects no progressive scan for xxup hdtv owners suitable for many people looking for a versatile xxunk xxmaj no universal remote\n",
              "y: EmptyLabelList\n",
              ",,,,\n",
              "Path: ., model=SequentialRNN(\n",
              "  (0): MultiBatchEncoder(\n",
              "    (module): AWD_LSTM(\n",
              "      (encoder): Embedding(60000, 400, padding_idx=1)\n",
              "      (encoder_dp): EmbeddingDropout(\n",
              "        (emb): Embedding(60000, 400, padding_idx=1)\n",
              "      )\n",
              "      (rnns): ModuleList(\n",
              "        (0): WeightDropout(\n",
              "          (module): LSTM(400, 1152, batch_first=True)\n",
              "        )\n",
              "        (1): WeightDropout(\n",
              "          (module): LSTM(1152, 1152, batch_first=True)\n",
              "        )\n",
              "        (2): WeightDropout(\n",
              "          (module): LSTM(1152, 400, batch_first=True)\n",
              "        )\n",
              "      )\n",
              "      (input_dp): RNNDropout()\n",
              "      (hidden_dps): ModuleList(\n",
              "        (0): RNNDropout()\n",
              "        (1): RNNDropout()\n",
              "        (2): RNNDropout()\n",
              "      )\n",
              "    )\n",
              "  )\n",
              "  (1): PoolingLinearClassifier(\n",
              "    (layers): Sequential(\n",
              "      (0): BatchNorm1d(1200, eps=1e-05, momentum=0.1, affine=True, track_running_stats=True)\n",
              "      (1): Dropout(p=0.04000000000000001, inplace=False)\n",
              "      (2): Linear(in_features=1200, out_features=50, bias=True)\n",
              "      (3): ReLU(inplace=True)\n",
              "      (4): BatchNorm1d(50, eps=1e-05, momentum=0.1, affine=True, track_running_stats=True)\n",
              "      (5): Dropout(p=0.1, inplace=False)\n",
              "      (6): Linear(in_features=50, out_features=2, bias=True)\n",
              "    )\n",
              "  )\n",
              "), opt_func=functools.partial(<class 'torch.optim.adam.Adam'>, betas=(0.9, 0.99)), loss_func=FlattenedLoss of CrossEntropyLoss(), metrics=[<function accuracy at 0x7f70877d0840>], true_wd=True, bn_wd=True, wd=0.01, train_bn=True, path=PosixPath('.'), model_dir='models', callback_fns=[functools.partial(<class 'fastai.basic_train.Recorder'>, add_time=True, silent=False)], callbacks=[RNNTrainer\n",
              "learn: RNNLearner(data=TextClasDataBunch;\n",
              "\n",
              "Train: LabelList (40000 items)\n",
              "x: TextList\n",
              "xxbos dumb dumber i did nt like the video xxmaj how could all xxmaj josephs brothers be of a different race xxmaj are we trying to be politically correct or xxup what xxmaj also i wish xxmaj donny had kept his shirt on i was turned on by his hairy chest i have seen this performed twice by groups other than xxmaj donny and co and enjoyed it so much more xxmaj give it up xxmaj donny,xxbos xxmaj unhappy competition xxmaj this album is wonderful i can listen to it for hours and i m 65 years old xxmaj please be cautious in believing critical reviews as some people are unhappy that xxmaj clays album came out before xxmaj rubens i m sure xxmaj rubens album will be really great also,xxbos xxmaj very annoying xxmaj this video is really a disappointment it came with a xxmaj thomas piece so naturally my daughter picked it and i thought the bonus feature would nt be mixed in with the actually xxmaj thomas stories but i was wrong xxmaj my daughter easily lost interest when the people would come on and talk about loving xxmaj thomas and getting to ride the real xxmaj thomas train i was totally annoyed,xxbos xxmaj class xxmaj is xxup definately xxmaj in xxmaj session i liked xxmaj lauryn xxmaj hill so much in xxmaj the xxmaj fugees i had to get her first solo album i was blown away after one listening xxmaj this album showcases her rap skills and wonderful singing vioce xxmaj even the interludes between songs are bearable xxmaj of course xxmaj doo xxmaj wop xxmaj that xxmaj thing is one of my favorites where she shows off both of her talents xxmaj the harmonies are incredible xxmaj other faves include exfactor i xxmaj used xxmaj to xxmaj love xxmaj him a duet with xxmaj mary j xxmaj blige and xxmaj final xxmaj hour xxmaj the two i did not enjoy were xxmaj superstar and her duet with dangelo xxmaj nothing xxmaj even mattersnem is just too long xxmaj this xxup cd is a must for anyone who likes hiphop xxup rb andor light rap xxmaj get your miseducation from xxmaj lauryn and it will be tuition wellspent,xxbos xxmaj stupidiest agent movie ever made xxmaj this movie is literally a copy of xxmaj james xxmaj bond moviethe only diffirence is the agent who tries to be a coolskateraction renegadetrash talking agent in the name of being the new age agentvin xxmaj diesel totally xxmaj the movie is tried to be an original one by having a closetoteenage guywho is totally stupidthe story is probably one of the most senseless ones in the movie worldwho would like the destroy all the governments so everyone could be freeby poisioning the worldfor the ones still interested in this movie and want to know about this moviea movie that lacks everything to be a good agent classici think xxmaj vin xxmaj diesel and this movies makers should watch more xxmaj james xxmaj bond before they shoot the next one\n",
              "y: CategoryList\n",
              "0,1,0,1,0\n",
              "Path: .;\n",
              "\n",
              "Valid: LabelList (10000 items)\n",
              "x: TextList\n",
              "xxbos the complete king wonderful compilation of elvis work from the early to final xxunk the advances in recording technology over his career,xxbos xxmaj not bad and essential xxmaj this is a firsthand tale of what night have been and exactly what we xxunk away in mindless hostility toward xxmaj russia with whom we might have had warmer relations for the past sixty years as we now have with xxmaj china and by means of this xxunk posture xxunk away substantial portions of the xxup us and xxmaj russian xxunk encouraged the xxup us to befriend and empower vicious dictators and began a slow spiral of worsening relations with the rest of the xxunk not too bold to assert that one can trace the xxunk of the current xxup us xxunk and financial disaster to the collective xxunk of the xxmaj western xxmaj powers xxunk a xxunk xxmaj russia nostalgic for the xxmaj good xxmaj old xxmaj days of the xxmaj xxunk,xxbos 1 star is being very generous xxmaj this movie of xxmaj joan of xxmaj arc is the xxup worst representation of her life ever produced xxmaj the history is not very accurate and xxmaj joans mission was totally missed xxmaj the director seems to have forgotten that this 19 yr old girl was the xxunk that eventually ended the xxmaj hundred xxmaj years xxmaj war but under xxmaj gods command xxmaj this is a cheezy xxmaj hollywood production looks are very deceiving xxmaj do nt waste your money xxmaj if you are truly interested in seeing a xxup good and more accurate movie i suggest xxup the xxup passion xxup of xxup joan xxup of xxup arc the 1928 silent film or xxup joan xxup of xxup arc with xxmaj leelee xxmaj sobieski from 1999,xxbos xxmaj attitude xxmaj when i first got this book i thought it would be a good read especially her escapades with cooking xxmaj and i liked the little tidbits about xxmaj julia xxmaj childs and her husband xxmaj however i got tired of the book after sixty seventy pages of it i found i was angry and disgusted by her total lack of sympathy for those who were trying to contribute to the 911 memorial as well as the families who have lost people in towers xxmaj her condescension was more than i could handle xxmaj she and her friends were a bunch of whining selfabsorbed xxunk that believe the world revolved around them and their happiness xxmaj in the end i could not bring myself to read any farther xxmaj that s too bad xxmaj it should have been better given the concept,xxbos great purchase great book great presentation first time i bought something for kindle really please so far looking forward to new titles and new features for kindle\n",
              "y: CategoryList\n",
              "1,1,0,0,1\n",
              "Path: .;\n",
              "\n",
              "Test: LabelList (50000 items)\n",
              "x: TextList\n",
              "xxbos xxmaj great xxup cd xxmaj my lovely xxmaj pat has one of the xxup great voices of her generation i have listened to this xxup cd for xxup years and i still xxup love xxup it xxmaj when i m in a good mood it makes me feel better a bad mood just evaporates like sugar in the rain xxmaj this xxup cd just oozes xxup life xxmaj vocals are xxunk xxup xxunk and lyrics just kill xxmaj one of lifes hidden gems xxmaj this is a desert isle xxup cd in my book xxmaj why she never made it big is just beyond me xxmaj everytime i play this no matter black white young old male female xxup everybody says one thing xxmaj who was that singing,xxbos xxmaj one of the best game music soundtracks for a game i did nt really play xxmaj despite the fact that i have only played a small portion of the game the music i heard plus the connection to xxmaj chrono xxmaj trigger which was great as well led me to purchase the soundtrack and it remains one of my favorite albums xxmaj there is an incredible mix of fun epic and emotional songs xxmaj those sad and beautiful tracks i especially like as there s not too many of those kinds of songs in my other video game soundtracks i must admit that one of the songs lifea xxmaj distant xxmaj promise has brought tears to my eyes on many xxunk one complaint about this soundtrack is that they use guitar fretting effects in many of the songs which i find distracting xxmaj but even if those were nt included i would still consider the collection worth it,xxbos xxmaj batteries died within a year i bought this charger in xxmaj xxunk 2003 and it worked xxup ok for a while xxmaj the design is nice and convenient xxmaj however after about a year the batteries would not hold a charge xxmaj might as well just get alkaline disposables or look elsewhere for a charger that comes with batteries that have better staying power,xxbos works fine but xxmaj maha xxmaj energy is better xxmaj check out xxmaj maha xxmaj xxunk website xxmaj their xxmaj xxunk xxup xxunk charger works in 100 minutes for rapid charge with option for slower charge better for batteries xxmaj and they have 2200 mah batteries,xxbos xxmaj great for the xxunk xxmaj reviewed quite a bit of the combo players and was hesitant due to unfavorable reviews and size of machines i am xxunk off my xxup vhs collection but do nt want to replace them with dvds xxmaj this unit is well built easy to setup and resolution and special effects no progressive scan for xxup hdtv owners suitable for many people looking for a versatile xxunk xxmaj no universal remote\n",
              "y: EmptyLabelList\n",
              ",,,,\n",
              "Path: ., model=SequentialRNN(\n",
              "  (0): MultiBatchEncoder(\n",
              "    (module): AWD_LSTM(\n",
              "      (encoder): Embedding(60000, 400, padding_idx=1)\n",
              "      (encoder_dp): EmbeddingDropout(\n",
              "        (emb): Embedding(60000, 400, padding_idx=1)\n",
              "      )\n",
              "      (rnns): ModuleList(\n",
              "        (0): WeightDropout(\n",
              "          (module): LSTM(400, 1152, batch_first=True)\n",
              "        )\n",
              "        (1): WeightDropout(\n",
              "          (module): LSTM(1152, 1152, batch_first=True)\n",
              "        )\n",
              "        (2): WeightDropout(\n",
              "          (module): LSTM(1152, 400, batch_first=True)\n",
              "        )\n",
              "      )\n",
              "      (input_dp): RNNDropout()\n",
              "      (hidden_dps): ModuleList(\n",
              "        (0): RNNDropout()\n",
              "        (1): RNNDropout()\n",
              "        (2): RNNDropout()\n",
              "      )\n",
              "    )\n",
              "  )\n",
              "  (1): PoolingLinearClassifier(\n",
              "    (layers): Sequential(\n",
              "      (0): BatchNorm1d(1200, eps=1e-05, momentum=0.1, affine=True, track_running_stats=True)\n",
              "      (1): Dropout(p=0.04000000000000001, inplace=False)\n",
              "      (2): Linear(in_features=1200, out_features=50, bias=True)\n",
              "      (3): ReLU(inplace=True)\n",
              "      (4): BatchNorm1d(50, eps=1e-05, momentum=0.1, affine=True, track_running_stats=True)\n",
              "      (5): Dropout(p=0.1, inplace=False)\n",
              "      (6): Linear(in_features=50, out_features=2, bias=True)\n",
              "    )\n",
              "  )\n",
              "), opt_func=functools.partial(<class 'torch.optim.adam.Adam'>, betas=(0.9, 0.99)), loss_func=FlattenedLoss of CrossEntropyLoss(), metrics=[<function accuracy at 0x7f70877d0840>], true_wd=True, bn_wd=True, wd=0.01, train_bn=True, path=PosixPath('.'), model_dir='models', callback_fns=[functools.partial(<class 'fastai.basic_train.Recorder'>, add_time=True, silent=False)], callbacks=[...], layer_groups=[Sequential(\n",
              "  (0): Embedding(60000, 400, padding_idx=1)\n",
              "  (1): EmbeddingDropout(\n",
              "    (emb): Embedding(60000, 400, padding_idx=1)\n",
              "  )\n",
              "), Sequential(\n",
              "  (0): WeightDropout(\n",
              "    (module): LSTM(400, 1152, batch_first=True)\n",
              "  )\n",
              "  (1): RNNDropout()\n",
              "), Sequential(\n",
              "  (0): WeightDropout(\n",
              "    (module): LSTM(1152, 1152, batch_first=True)\n",
              "  )\n",
              "  (1): RNNDropout()\n",
              "), Sequential(\n",
              "  (0): WeightDropout(\n",
              "    (module): LSTM(1152, 400, batch_first=True)\n",
              "  )\n",
              "  (1): RNNDropout()\n",
              "), Sequential(\n",
              "  (0): PoolingLinearClassifier(\n",
              "    (layers): Sequential(\n",
              "      (0): BatchNorm1d(1200, eps=1e-05, momentum=0.1, affine=True, track_running_stats=True)\n",
              "      (1): Dropout(p=0.04000000000000001, inplace=False)\n",
              "      (2): Linear(in_features=1200, out_features=50, bias=True)\n",
              "      (3): ReLU(inplace=True)\n",
              "      (4): BatchNorm1d(50, eps=1e-05, momentum=0.1, affine=True, track_running_stats=True)\n",
              "      (5): Dropout(p=0.1, inplace=False)\n",
              "      (6): Linear(in_features=50, out_features=2, bias=True)\n",
              "    )\n",
              "  )\n",
              ")], add_time=True, silent=False)\n",
              "alpha: 2.0\n",
              "beta: 1.0], layer_groups=[Sequential(\n",
              "  (0): Embedding(60000, 400, padding_idx=1)\n",
              "  (1): EmbeddingDropout(\n",
              "    (emb): Embedding(60000, 400, padding_idx=1)\n",
              "  )\n",
              "), Sequential(\n",
              "  (0): WeightDropout(\n",
              "    (module): LSTM(400, 1152, batch_first=True)\n",
              "  )\n",
              "  (1): RNNDropout()\n",
              "), Sequential(\n",
              "  (0): WeightDropout(\n",
              "    (module): LSTM(1152, 1152, batch_first=True)\n",
              "  )\n",
              "  (1): RNNDropout()\n",
              "), Sequential(\n",
              "  (0): WeightDropout(\n",
              "    (module): LSTM(1152, 400, batch_first=True)\n",
              "  )\n",
              "  (1): RNNDropout()\n",
              "), Sequential(\n",
              "  (0): PoolingLinearClassifier(\n",
              "    (layers): Sequential(\n",
              "      (0): BatchNorm1d(1200, eps=1e-05, momentum=0.1, affine=True, track_running_stats=True)\n",
              "      (1): Dropout(p=0.04000000000000001, inplace=False)\n",
              "      (2): Linear(in_features=1200, out_features=50, bias=True)\n",
              "      (3): ReLU(inplace=True)\n",
              "      (4): BatchNorm1d(50, eps=1e-05, momentum=0.1, affine=True, track_running_stats=True)\n",
              "      (5): Dropout(p=0.1, inplace=False)\n",
              "      (6): Linear(in_features=50, out_features=2, bias=True)\n",
              "    )\n",
              "  )\n",
              ")], add_time=True, silent=False)"
            ]
          },
          "metadata": {
            "tags": []
          },
          "execution_count": 11
        }
      ]
    },
    {
      "cell_type": "code",
      "metadata": {
        "id": "FX1cQ7BJMPKj",
        "colab_type": "code",
        "outputId": "b4126897-8287-469f-890e-5c1ca3ec3b8f",
        "colab": {
          "base_uri": "https://localhost:8080/",
          "height": 296
        }
      },
      "source": [
        "# Plot different learning rate and select the best learning rate\n",
        "learn_class.lr_find(start_lr=1e-8, end_lr=1e2)\n",
        "learn_class.recorder.plot()"
      ],
      "execution_count": 12,
      "outputs": [
        {
          "output_type": "display_data",
          "data": {
            "text/html": [
              ""
            ],
            "text/plain": [
              "<IPython.core.display.HTML object>"
            ]
          },
          "metadata": {
            "tags": []
          }
        },
        {
          "output_type": "stream",
          "text": [
            "LR Finder is complete, type {learner_name}.recorder.plot() to see the graph.\n"
          ],
          "name": "stdout"
        },
        {
          "output_type": "display_data",
          "data": {
            "image/png": "[encoded data removed]",
            "text/plain": [
              "<Figure size 432x288 with 1 Axes>"
            ]
          },
          "metadata": {
            "tags": []
          }
        }
      ]
    },
    {
      "cell_type": "code",
      "metadata": {
        "id": "y5lWN0xXQGYR",
        "colab_type": "code",
        "outputId": "2eaa30b5-5584-41c9-d900-d14e95df7507",
        "colab": {
          "base_uri": "https://localhost:8080/",
          "height": 77
        }
      },
      "source": [
        "# Fine tune the classification model with the review data\n",
        "learn_class.fit_one_cycle(1, slice(1e-4, 1e-1), moms=(0.8, 0.7))"
      ],
      "execution_count": 13,
      "outputs": [
        {
          "output_type": "display_data",
          "data": {
            "text/html": [
              "<table border=\"1\" class=\"dataframe\">\n",
              "  <thead>\n",
              "    <tr style=\"text-align: left;\">\n",
              "      <th>epoch</th>\n",
              "      <th>train_loss</th>\n",
              "      <th>valid_loss</th>\n",
              "      <th>accuracy</th>\n",
              "      <th>time</th>\n",
              "    </tr>\n",
              "  </thead>\n",
              "  <tbody>\n",
              "    <tr>\n",
              "      <td>0</td>\n",
              "      <td>0.315930</td>\n",
              "      <td>0.231868</td>\n",
              "      <td>0.906900</td>\n",
              "      <td>02:22</td>\n",
              "    </tr>\n",
              "  </tbody>\n",
              "</table>"
            ],
            "text/plain": [
              "<IPython.core.display.HTML object>"
            ]
          },
          "metadata": {
            "tags": []
          }
        }
      ]
    },
    {
      "cell_type": "code",
      "metadata": {
        "id": "jvB6Msu5QXpY",
        "colab_type": "code",
        "outputId": "17629af5-5cc0-4b0b-d80e-e9782720588f",
        "colab": {
          "base_uri": "https://localhost:8080/",
          "height": 77
        }
      },
      "source": [
        "learn_class.unfreeze()\n",
        "learn_class.fit_one_cycle(1, slice(1e-4, 1e-1), moms=(0.8, 0.7))\n"
      ],
      "execution_count": 16,
      "outputs": [
        {
          "output_type": "display_data",
          "data": {
            "text/html": [
              "<table border=\"1\" class=\"dataframe\">\n",
              "  <thead>\n",
              "    <tr style=\"text-align: left;\">\n",
              "      <th>epoch</th>\n",
              "      <th>train_loss</th>\n",
              "      <th>valid_loss</th>\n",
              "      <th>accuracy</th>\n",
              "      <th>time</th>\n",
              "    </tr>\n",
              "  </thead>\n",
              "  <tbody>\n",
              "    <tr>\n",
              "      <td>0</td>\n",
              "      <td>0.203046</td>\n",
              "      <td>0.201467</td>\n",
              "      <td>0.921000</td>\n",
              "      <td>04:40</td>\n",
              "    </tr>\n",
              "  </tbody>\n",
              "</table>"
            ],
            "text/plain": [
              "<IPython.core.display.HTML object>"
            ]
          },
          "metadata": {
            "tags": []
          }
        }
      ]
    },
    {
      "cell_type": "code",
      "metadata": {
        "id": "x8oldIm1M3Pg",
        "colab_type": "code",
        "outputId": "fef0d6b1-a18f-4591-e422-d708ad99fe3e",
        "colab": {
          "base_uri": "https://localhost:8080/",
          "height": 17
        }
      },
      "source": [
        "# Predict the test data\n",
        "prediction, test_class =learn_class.get_preds(ds_type=DatasetType.Fix)\n",
        "pred_class = torch.argmax(prediction, dim=1)"
      ],
      "execution_count": 17,
      "outputs": [
        {
          "output_type": "display_data",
          "data": {
            "text/html": [
              ""
            ],
            "text/plain": [
              "<IPython.core.display.HTML object>"
            ]
          },
          "metadata": {
            "tags": []
          }
        }
      ]
    },
    {
      "cell_type": "code",
      "metadata": {
        "id": "u5nF7NjYcuVO",
        "colab_type": "code",
        "outputId": "99bd97c4-04dd-478c-f466-d546dc25c205",
        "colab": {
          "base_uri": "https://localhost:8080/",
          "height": 168
        }
      },
      "source": [
        "print(classification_report(test_class,pred_class))"
      ],
      "execution_count": 18,
      "outputs": [
        {
          "output_type": "stream",
          "text": [
            "              precision    recall  f1-score   support\n",
            "\n",
            "           0       0.92      0.97      0.95     19595\n",
            "           1       0.97      0.92      0.95     20405\n",
            "\n",
            "    accuracy                           0.95     40000\n",
            "   macro avg       0.95      0.95      0.95     40000\n",
            "weighted avg       0.95      0.95      0.95     40000\n",
            "\n"
          ],
          "name": "stdout"
        }
      ]
    }
  ]
}