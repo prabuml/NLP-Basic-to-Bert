{
  "nbformat": 4,
  "nbformat_minor": 0,
  "metadata": {
    "colab": {
      "name": "LinearSvm_Glovefeatures.ipynb",
      "provenance": []
    },
    "kernelspec": {
      "name": "python3",
      "display_name": "Python 3"
    }
  },
  "cells": [
    {
      "cell_type": "code",
      "metadata": {
        "id": "RfBaZDNl8fTT",
        "colab_type": "code",
        "outputId": "2bd1a859-3abf-46a9-ba84-1e17944b4a3c",
        "colab": {
          "base_uri": "https://localhost:8080/",
          "height": 101
        }
      },
      "source": [
        "!pip install pyspellchecker\n",
        "from sklearn.svm import LinearSVC\n",
        "import pandas as pd\n",
        "from sklearn.pipeline import Pipeline\n",
        "import string\n",
        "from sklearn.feature_extraction.text import TfidfVectorizer\n",
        "import re\n",
        "from nltk.corpus import stopwords\n",
        "from nltk.corpus import wordnet\n",
        "import nltk\n",
        "from nltk.stem import WordNetLemmatizer\n",
        "from spellchecker import SpellChecker\n",
        "from sklearn.metrics import classification_report\n",
        "import numpy as np\n",
        "from google.colab import files\n",
        "from google.colab import drive\n",
        "from torchtext.vocab import GloVe\n",
        "import pickle\n",
        "from sklearn.model_selection import GridSearchCV\n"
      ],
      "execution_count": 1,
      "outputs": [
        {
          "output_type": "stream",
          "text": [
            "Collecting pyspellchecker\n",
            "\u001b[?25l  Downloading https://files.pythonhosted.org/packages/93/24/9a570f49dfefc16e9ce1f483bb2d5bff701b95094e051db502e3c11f5092/pyspellchecker-0.5.3-py2.py3-none-any.whl (1.9MB)\n",
            "\u001b[K     |████████████████████████████████| 1.9MB 2.7MB/s \n",
            "\u001b[?25hInstalling collected packages: pyspellchecker\n",
            "Successfully installed pyspellchecker-0.5.3\n"
          ],
          "name": "stdout"
        }
      ]
    },
    {
      "cell_type": "code",
      "metadata": {
        "id": "aUIqHmFK8gIx",
        "colab_type": "code",
        "outputId": "f1688f5a-a079-4967-f6a4-f069eea78ed2",
        "colab": {
          "base_uri": "https://localhost:8080/",
          "height": 121
        }
      },
      "source": [
        "drive.mount('/content/gdrive')"
      ],
      "execution_count": 2,
      "outputs": [
        {
          "output_type": "stream",
          "text": [
            "Go to this URL in a browser: https://accounts.google.com/o/oauth2/auth?client_id=947318989803-6bn6qk8qdgf4n4g3pfee6491hc0brc4i.apps.googleusercontent.com&redirect_uri=urn%3aietf%3awg%3aoauth%3a2.0%3aoob&response_type=code&scope=email%20https%3a%2f%2fwww.googleapis.com%2fauth%2fdocs.test%20https%3a%2f%2fwww.googleapis.com%2fauth%2fdrive%20https%3a%2f%2fwww.googleapis.com%2fauth%2fdrive.photos.readonly%20https%3a%2f%2fwww.googleapis.com%2fauth%2fpeopleapi.readonly\n",
            "\n",
            "Enter your authorization code:\n",
            "··········\n",
            "Mounted at /content/gdrive\n"
          ],
          "name": "stdout"
        }
      ]
    },
    {
      "cell_type": "code",
      "metadata": {
        "id": "pi_O70A08jvU",
        "colab_type": "code",
        "outputId": "81b7a77c-24be-43ac-e5d7-d27ee8d4d346",
        "colab": {
          "base_uri": "https://localhost:8080/",
          "height": 34
        }
      },
      "source": [
        "cd '/content/gdrive/My Drive/Colab Notebooks/NLP-Basic-to-Bert'"
      ],
      "execution_count": 3,
      "outputs": [
        {
          "output_type": "stream",
          "text": [
            "/content/gdrive/My Drive/Colab Notebooks/NLP-Basic-to-Bert\n"
          ],
          "name": "stdout"
        }
      ]
    },
    {
      "cell_type": "code",
      "metadata": {
        "id": "6cbseeZv8oHM",
        "colab_type": "code",
        "colab": {}
      },
      "source": [
        "# Load the dataset\n",
        "train_df = pd.read_csv('training_data.csv')\n",
        "test_df = pd.read_csv('testing_data.csv')"
      ],
      "execution_count": 0,
      "outputs": []
    },
    {
      "cell_type": "code",
      "metadata": {
        "id": "h5MBAMFE9A9B",
        "colab_type": "code",
        "outputId": "37d63734-e869-4d4d-80c1-3d6c9476045d",
        "colab": {
          "base_uri": "https://localhost:8080/",
          "height": 50
        }
      },
      "source": [
        "### Download the glove embedding \n",
        "glove = GloVe(name = '6B', dim = 300)\n",
        "np.save('embed.npy', glove.vectors.numpy())\n",
        "pickle.dump(glove.stoi, open('stoi.pkl', 'wb'))"
      ],
      "execution_count": 6,
      "outputs": [
        {
          "output_type": "stream",
          "text": [
            ".vector_cache/glove.6B.zip: 862MB [06:28, 2.22MB/s]                           \n",
            "100%|█████████▉| 399346/400000 [00:48<00:00, 10158.40it/s]"
          ],
          "name": "stderr"
        }
      ]
    },
    {
      "cell_type": "code",
      "metadata": {
        "id": "4v2SeW2f9ivF",
        "colab_type": "code",
        "colab": {}
      },
      "source": [
        "#### Load the embeddings and corresponding word indics\n",
        "embeddings = np.load('embed.npy')\n",
        "word_to_indx = pickle.load(open('stoi.pkl', 'rb'))"
      ],
      "execution_count": 0,
      "outputs": []
    },
    {
      "cell_type": "markdown",
      "metadata": {
        "id": "kYj-cYHge7iQ",
        "colab_type": "text"
      },
      "source": [
        ""
      ]
    },
    {
      "cell_type": "code",
      "metadata": {
        "id": "FTXkt07AhxN-",
        "colab_type": "code",
        "colab": {}
      },
      "source": [
        "train_df['length']= train_df.user_review.str.split().apply(len)\n",
        "test_df['length'] = test_df.user_review.str.split().apply(len)"
      ],
      "execution_count": 0,
      "outputs": []
    },
    {
      "cell_type": "code",
      "metadata": {
        "id": "UE-zQYUQkCfI",
        "colab_type": "code",
        "colab": {}
      },
      "source": [
        "train_df=train_df[train_df.length!=0]\n",
        "test_df = test_df[test_df.length!=0]"
      ],
      "execution_count": 0,
      "outputs": []
    },
    {
      "cell_type": "markdown",
      "metadata": {
        "id": "au2X1K4Li7sq",
        "colab_type": "text"
      },
      "source": [
        ""
      ]
    },
    {
      "cell_type": "code",
      "metadata": {
        "id": "eHlqKRpQ90xI",
        "colab_type": "code",
        "colab": {}
      },
      "source": [
        "# Create embbedding featues by averaging the embedding values of all the words in the review\n",
        "\n",
        "train_df['user_review'] = train_df.user_review.str.lower()\n",
        "train_df['emb_feature'] = train_df['user_review'].apply(lambda x:np.array([embeddings[word_to_indx.get(word, 0)] for word in x.split()]).mean(0))\n",
        "\n",
        "test_df['user_review'] = test_df.user_review.str.lower()\n",
        "test_df['emb_feature'] = test_df['user_review'].apply(lambda x:np.array([embeddings[word_to_indx.get(word, 0)] for word in x.split()]).mean(0))"
      ],
      "execution_count": 0,
      "outputs": []
    },
    {
      "cell_type": "code",
      "metadata": {
        "id": "PESFcbxUAMAT",
        "colab_type": "code",
        "colab": {}
      },
      "source": [
        "# Convert them to np array for optimization\n",
        "train_features = np.stack(train_df['emb_feature'])\n",
        "np.save('train_features.npy', train_features)\n",
        "\n",
        "test_features = np.stack(test_df['emb_feature'])\n",
        "np.save('test_features.npy', test_features)\n",
        "\n",
        "train_class = train_df['user_rating']\n",
        "test_class = test_df['user_rating']\n",
        "\n",
        "np.save('train_class.npy',train_class)\n",
        "np.save('test_class.npy',test_class)\n",
        "\n",
        "del train_df, test_df"
      ],
      "execution_count": 0,
      "outputs": []
    },
    {
      "cell_type": "code",
      "metadata": {
        "id": "36FX_24Uznmp",
        "colab_type": "code",
        "colab": {}
      },
      "source": [
        "train_features = np.load('train_features.npy')\n",
        "test_features = np.load('test_features.npy')\n",
        "train_class = np.load('train_class.npy')\n",
        "test_class = np.load('test_class.npy')"
      ],
      "execution_count": 0,
      "outputs": []
    },
    {
      "cell_type": "code",
      "metadata": {
        "id": "89dveOhzLRCG",
        "colab_type": "code",
        "outputId": "3332b18b-7437-4fd4-a02d-6540db94393c",
        "colab": {
          "base_uri": "https://localhost:8080/",
          "height": 87
        }
      },
      "source": [
        "# Find the best parameters using Grid Search\n",
        "model =LinearSVC()\n",
        "parameters = {'C': [0.01,0.1,1,10,100]}\n",
        "grid_search = GridSearchCV(LinearSVC(), parameters, n_jobs=-1)\n",
        "grid_search.fit(train_features, train_class)\n",
        "\n",
        "print('best parameters: ', grid_search.best_params_)"
      ],
      "execution_count": 5,
      "outputs": [
        {
          "output_type": "stream",
          "text": [
            "/usr/local/lib/python3.6/dist-packages/sklearn/model_selection/_split.py:1978: FutureWarning: The default value of cv will change from 3 to 5 in version 0.22. Specify it explicitly to silence this warning.\n",
            "  warnings.warn(CV_WARNING, FutureWarning)\n"
          ],
          "name": "stderr"
        },
        {
          "output_type": "stream",
          "text": [
            "best parameters:  {'C': 1}\n"
          ],
          "name": "stdout"
        }
      ]
    },
    {
      "cell_type": "code",
      "metadata": {
        "id": "JG7qunATHnQ4",
        "colab_type": "code",
        "outputId": "3cb87a1e-24e0-4076-ec75-22ebfb60f346",
        "colab": {
          "base_uri": "https://localhost:8080/",
          "height": 84
        }
      },
      "source": [
        "# Build the model using the best parameter\n",
        "\n",
        "model = LinearSVC(C= grid_search.best_params_['C'])\n",
        "model.fit(train_features,train_class)"
      ],
      "execution_count": 6,
      "outputs": [
        {
          "output_type": "execute_result",
          "data": {
            "text/plain": [
              "LinearSVC(C=1, class_weight=None, dual=True, fit_intercept=True,\n",
              "          intercept_scaling=1, loss='squared_hinge', max_iter=1000,\n",
              "          multi_class='ovr', penalty='l2', random_state=None, tol=0.0001,\n",
              "          verbose=0)"
            ]
          },
          "metadata": {
            "tags": []
          },
          "execution_count": 6
        }
      ]
    },
    {
      "cell_type": "code",
      "metadata": {
        "id": "IxrsAFL1Hwtv",
        "colab_type": "code",
        "colab": {
          "base_uri": "https://localhost:8080/",
          "height": 168
        },
        "outputId": "7d218f46-5d7b-4610-d501-9ce6a5e103f6"
      },
      "source": [
        "# Find the Classification report for the model\n",
        "\n",
        "prediction=model.predict(test_features)\n",
        "print(classification_report(test_class, prediction))"
      ],
      "execution_count": 7,
      "outputs": [
        {
          "output_type": "stream",
          "text": [
            "              precision    recall  f1-score   support\n",
            "\n",
            "           0       0.82      0.85      0.84    200000\n",
            "           1       0.84      0.82      0.83    200000\n",
            "\n",
            "    accuracy                           0.83    400000\n",
            "   macro avg       0.83      0.83      0.83    400000\n",
            "weighted avg       0.83      0.83      0.83    400000\n",
            "\n"
          ],
          "name": "stdout"
        }
      ]
    },
    {
      "cell_type": "code",
      "metadata": {
        "id": "DEkpIIYkLCtE",
        "colab_type": "code",
        "colab": {}
      },
      "source": [
        ""
      ],
      "execution_count": 0,
      "outputs": []
    }
  ]
}