{
  "nbformat": 4,
  "nbformat_minor": 0,
  "metadata": {
    "colab": {
      "name": "LinearSVM_Basic.ipynb",
      "provenance": []
    },
    "kernelspec": {
      "name": "python3",
      "display_name": "Python 3"
    }
  },
  "cells": [
    {
      "cell_type": "markdown",
      "metadata": {
        "id": "dLdSnG5lHqzr",
        "colab_type": "text"
      },
      "source": [
        "[![Open In Colab](https://colab.research.google.com/assets/colab-badge.svg)](https://colab.research.google.com/github/prabuscihero/NLP-Basic-to-Bert/blob/master/LinearSVM_Basic.ipynb)"
      ]
    },
    {
      "cell_type": "code",
      "metadata": {
        "id": "txeWab12IDr5",
        "colab_type": "code",
        "colab": {}
      },
      "source": [
        "from sklearn.svm import LinearSVC\n",
        "import pandas as pd\n",
        "from sklearn.pipeline import Pipeline\n",
        "import string\n",
        "from sklearn.feature_extraction.text import TfidfVectorizer\n",
        "import re\n",
        "from nltk.corpus import stopwords\n",
        "from nltk.corpus import wordnet\n",
        "import nltk\n",
        "from nltk.stem import WordNetLemmatizer\n",
        "from sklearn.metrics import classification_report\n",
        "from sklearn.model_selection import GridSearchCV"
      ],
      "execution_count": 0,
      "outputs": []
    },
    {
      "cell_type": "code",
      "metadata": {
        "id": "kS964ALo6a-4",
        "colab_type": "code",
        "outputId": "01b28ee7-13f9-4dee-d0aa-c99c4d0712ae",
        "colab": {
          "base_uri": "https://localhost:8080/",
          "height": 121
        }
      },
      "source": [
        "from google.colab import files\n",
        "from google.colab import drive\n",
        "drive.mount('/content/gdrive')"
      ],
      "execution_count": 2,
      "outputs": [
        {
          "output_type": "stream",
          "text": [
            "Go to this URL in a browser: https://accounts.google.com/o/oauth2/auth?client_id=947318989803-6bn6qk8qdgf4n4g3pfee6491hc0brc4i.apps.googleusercontent.com&redirect_uri=urn%3aietf%3awg%3aoauth%3a2.0%3aoob&response_type=code&scope=email%20https%3a%2f%2fwww.googleapis.com%2fauth%2fdocs.test%20https%3a%2f%2fwww.googleapis.com%2fauth%2fdrive%20https%3a%2f%2fwww.googleapis.com%2fauth%2fdrive.photos.readonly%20https%3a%2f%2fwww.googleapis.com%2fauth%2fpeopleapi.readonly\n",
            "\n",
            "Enter your authorization code:\n",
            "··········\n",
            "Mounted at /content/gdrive\n"
          ],
          "name": "stdout"
        }
      ]
    },
    {
      "cell_type": "code",
      "metadata": {
        "id": "9tE7TPof6ia1",
        "colab_type": "code",
        "outputId": "7c62b241-bc34-4172-dc89-521d514e17a5",
        "colab": {
          "base_uri": "https://localhost:8080/",
          "height": 34
        }
      },
      "source": [
        "cd '/content/gdrive/My Drive/Colab Notebooks/NLP-Basic-to-Bert'"
      ],
      "execution_count": 3,
      "outputs": [
        {
          "output_type": "stream",
          "text": [
            "/content/gdrive/My Drive/Colab Notebooks/NLP-Basic-to-Bert\n"
          ],
          "name": "stdout"
        }
      ]
    },
    {
      "cell_type": "code",
      "metadata": {
        "id": "Zsu7FXoa5uuX",
        "colab_type": "code",
        "colab": {}
      },
      "source": [
        "# Load the data\n",
        "train_df = pd.read_csv('training_data.csv')\n",
        "test_df = pd.read_csv('testing_data.csv')"
      ],
      "execution_count": 0,
      "outputs": []
    },
    {
      "cell_type": "code",
      "metadata": {
        "id": "s1OuSeJ7QZN_",
        "colab_type": "code",
        "colab": {}
      },
      "source": [
        "# Create tfidf vectors \n",
        "vectorizer = TfidfVectorizer(min_df = 5,max_df = 0.9)\n",
        "train_features = vectorizer.fit_transform(train_df['user_review'].str.lower())\n",
        "test_features = vectorizer.transform(test_df['user_review'].str.lower())"
      ],
      "execution_count": 0,
      "outputs": []
    },
    {
      "cell_type": "code",
      "metadata": {
        "id": "Vlk1KPRn8BDh",
        "colab_type": "code",
        "outputId": "b7595d45-3e40-40dc-9bc4-066c23084a30",
        "colab": {
          "base_uri": "https://localhost:8080/",
          "height": 87
        }
      },
      "source": [
        "# Use Grid Search to find the best parameter\n",
        "parameters = {'C': [0.01,0.1,1,10,100]}\n",
        "grid_search = GridSearchCV(LinearSVC(), parameters, n_jobs=-1)\n",
        "grid_search.fit(train_features, train_df.user_rating)\n",
        "\n",
        "print('best parameters: ', grid_search.best_params_)"
      ],
      "execution_count": 6,
      "outputs": [
        {
          "output_type": "stream",
          "text": [
            "/usr/local/lib/python3.6/dist-packages/sklearn/model_selection/_split.py:1978: FutureWarning: The default value of cv will change from 3 to 5 in version 0.22. Specify it explicitly to silence this warning.\n",
            "  warnings.warn(CV_WARNING, FutureWarning)\n"
          ],
          "name": "stderr"
        },
        {
          "output_type": "stream",
          "text": [
            "best parameters:  {'C': 0.1}\n"
          ],
          "name": "stdout"
        }
      ]
    },
    {
      "cell_type": "code",
      "metadata": {
        "id": "1R85wc5UaQ8g",
        "colab_type": "code",
        "outputId": "31628a0a-6c19-4136-a1b0-af201542ca32",
        "colab": {
          "base_uri": "https://localhost:8080/",
          "height": 84
        }
      },
      "source": [
        "# Build the model using the best parameter\n",
        "model = LinearSVC(C= grid_search.best_params_['C'])\n",
        "model.fit(train_features,train_df.user_rating)"
      ],
      "execution_count": 7,
      "outputs": [
        {
          "output_type": "execute_result",
          "data": {
            "text/plain": [
              "LinearSVC(C=0.1, class_weight=None, dual=True, fit_intercept=True,\n",
              "          intercept_scaling=1, loss='squared_hinge', max_iter=1000,\n",
              "          multi_class='ovr', penalty='l2', random_state=None, tol=0.0001,\n",
              "          verbose=0)"
            ]
          },
          "metadata": {
            "tags": []
          },
          "execution_count": 7
        }
      ]
    },
    {
      "cell_type": "code",
      "metadata": {
        "id": "8WbM7YfU8LwI",
        "colab_type": "code",
        "outputId": "39e01302-9db6-48c5-ace4-bd5ecefbede9",
        "colab": {
          "base_uri": "https://localhost:8080/",
          "height": 168
        }
      },
      "source": [
        "# Find the Classification report for the model\n",
        "\n",
        "prediction=model.predict(test_features)\n",
        "print(classification_report(test_df['user_rating'], prediction))"
      ],
      "execution_count": 8,
      "outputs": [
        {
          "output_type": "stream",
          "text": [
            "              precision    recall  f1-score   support\n",
            "\n",
            "           0       0.89      0.88      0.88     24626\n",
            "           1       0.88      0.89      0.89     25374\n",
            "\n",
            "    accuracy                           0.89     50000\n",
            "   macro avg       0.89      0.89      0.89     50000\n",
            "weighted avg       0.89      0.89      0.89     50000\n",
            "\n"
          ],
          "name": "stdout"
        }
      ]
    }
  ]
}